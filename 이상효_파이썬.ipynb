{
 "cells": [
  {
   "cell_type": "code",
   "execution_count": 1,
   "id": "c7617cc9",
   "metadata": {},
   "outputs": [
    {
     "name": "stdout",
     "output_type": "stream",
     "text": [
      "Hellow World!!\n"
     ]
    }
   ],
   "source": [
    "print('Hellow World!!')"
   ]
  },
  {
   "cell_type": "code",
   "execution_count": 2,
   "id": "eeea1db6",
   "metadata": {},
   "outputs": [
    {
     "data": {
      "text/plain": [
       "1"
      ]
     },
     "execution_count": 2,
     "metadata": {},
     "output_type": "execute_result"
    }
   ],
   "source": [
    "1"
   ]
  },
  {
   "cell_type": "code",
   "execution_count": 3,
   "id": "e65fc496",
   "metadata": {},
   "outputs": [
    {
     "ename": "SyntaxError",
     "evalue": "invalid syntax (<ipython-input-3-adc4c2ff3e04>, line 1)",
     "output_type": "error",
     "traceback": [
      "\u001b[1;36m  File \u001b[1;32m\"<ipython-input-3-adc4c2ff3e04>\"\u001b[1;36m, line \u001b[1;32m1\u001b[0m\n\u001b[1;33m    1 print('Hellow World!!')\u001b[0m\n\u001b[1;37m      ^\u001b[0m\n\u001b[1;31mSyntaxError\u001b[0m\u001b[1;31m:\u001b[0m invalid syntax\n"
     ]
    }
   ],
   "source": [
    "1 print('Hellow World!!')"
   ]
  },
  {
   "cell_type": "code",
   "execution_count": 4,
   "id": "1d18a046",
   "metadata": {},
   "outputs": [
    {
     "name": "stdout",
     "output_type": "stream",
     "text": [
      "3\n",
      "9\n"
     ]
    }
   ],
   "source": [
    "print(1 + 2)\n",
    "print (4 + 5)"
   ]
  },
  {
   "cell_type": "code",
   "execution_count": 5,
   "id": "ba8c0a3b",
   "metadata": {},
   "outputs": [
    {
     "data": {
      "text/plain": [
       "9"
      ]
     },
     "execution_count": 5,
     "metadata": {},
     "output_type": "execute_result"
    }
   ],
   "source": [
    "1+2\n",
    "4+5"
   ]
  },
  {
   "cell_type": "code",
   "execution_count": 6,
   "id": "f4ed9d62",
   "metadata": {},
   "outputs": [
    {
     "name": "stdout",
     "output_type": "stream",
     "text": [
      "Hello 이상효!!\n",
      "잘부탁드립니다!!\n"
     ]
    }
   ],
   "source": [
    "print('Hello 이상효!!')\n",
    "print('잘부탁드립니다!!')"
   ]
  },
  {
   "cell_type": "code",
   "execution_count": 7,
   "id": "8341e0fb",
   "metadata": {},
   "outputs": [
    {
     "name": "stdout",
     "output_type": "stream",
     "text": [
      "Hello 이상효!! |n 잘부탁드립니다\n"
     ]
    }
   ],
   "source": [
    "print('Hello 이상효!! |n 잘부탁드립니다')"
   ]
  },
  {
   "cell_type": "code",
   "execution_count": 8,
   "id": "b8841960",
   "metadata": {},
   "outputs": [
    {
     "ename": "SyntaxError",
     "evalue": "invalid syntax (<ipython-input-8-392d75864529>, line 1)",
     "output_type": "error",
     "traceback": [
      "\u001b[1;36m  File \u001b[1;32m\"<ipython-input-8-392d75864529>\"\u001b[1;36m, line \u001b[1;32m1\u001b[0m\n\u001b[1;33m    int a = 10\u001b[0m\n\u001b[1;37m        ^\u001b[0m\n\u001b[1;31mSyntaxError\u001b[0m\u001b[1;31m:\u001b[0m invalid syntax\n"
     ]
    }
   ],
   "source": [
    "int a = 10"
   ]
  },
  {
   "cell_type": "code",
   "execution_count": 9,
   "id": "b1975932",
   "metadata": {},
   "outputs": [],
   "source": [
    "a = 10"
   ]
  },
  {
   "cell_type": "code",
   "execution_count": 10,
   "id": "baefa653",
   "metadata": {},
   "outputs": [
    {
     "data": {
      "text/plain": [
       "11"
      ]
     },
     "execution_count": 10,
     "metadata": {},
     "output_type": "execute_result"
    }
   ],
   "source": [
    "a + 1"
   ]
  },
  {
   "cell_type": "code",
   "execution_count": 11,
   "id": "0a429aa0",
   "metadata": {},
   "outputs": [
    {
     "data": {
      "text/plain": [
       "10"
      ]
     },
     "execution_count": 11,
     "metadata": {},
     "output_type": "execute_result"
    }
   ],
   "source": [
    "a"
   ]
  },
  {
   "cell_type": "code",
   "execution_count": 12,
   "id": "b762ec2a",
   "metadata": {},
   "outputs": [],
   "source": [
    "b = 3.14"
   ]
  },
  {
   "cell_type": "code",
   "execution_count": 13,
   "id": "8f867c74",
   "metadata": {},
   "outputs": [
    {
     "data": {
      "text/plain": [
       "3.14"
      ]
     },
     "execution_count": 13,
     "metadata": {},
     "output_type": "execute_result"
    }
   ],
   "source": [
    "b"
   ]
  },
  {
   "cell_type": "code",
   "execution_count": 14,
   "id": "3e3effe9",
   "metadata": {},
   "outputs": [],
   "source": [
    "s = \"Hello, Python\""
   ]
  },
  {
   "cell_type": "code",
   "execution_count": 15,
   "id": "2d0bebb1",
   "metadata": {},
   "outputs": [
    {
     "data": {
      "text/plain": [
       "'Hello, Python'"
      ]
     },
     "execution_count": 15,
     "metadata": {},
     "output_type": "execute_result"
    }
   ],
   "source": [
    "s"
   ]
  },
  {
   "cell_type": "code",
   "execution_count": 16,
   "id": "cb9b8f24",
   "metadata": {},
   "outputs": [],
   "source": [
    "s1 = \"python\"\n",
    "s2 = \"Python\""
   ]
  },
  {
   "cell_type": "code",
   "execution_count": 17,
   "id": "c1f0887d",
   "metadata": {},
   "outputs": [],
   "source": [
    "s1 = s2 = \"python\""
   ]
  },
  {
   "cell_type": "code",
   "execution_count": 18,
   "id": "c994f174",
   "metadata": {},
   "outputs": [],
   "source": [
    "x = 100\n",
    "y = 200\n",
    "sum = x + y"
   ]
  },
  {
   "cell_type": "code",
   "execution_count": 19,
   "id": "ed0abeb1",
   "metadata": {},
   "outputs": [
    {
     "data": {
      "text/plain": [
       "300"
      ]
     },
     "execution_count": 19,
     "metadata": {},
     "output_type": "execute_result"
    }
   ],
   "source": [
    "sum"
   ]
  },
  {
   "cell_type": "code",
   "execution_count": 20,
   "id": "e592e824",
   "metadata": {},
   "outputs": [
    {
     "name": "stdout",
     "output_type": "stream",
     "text": [
      "L\n",
      "s\n"
     ]
    }
   ],
   "source": [
    "s = 'Life is too short, You need Python'\n",
    "print(s[0])\n",
    "print(s[12])"
   ]
  },
  {
   "cell_type": "code",
   "execution_count": 21,
   "id": "111cab85",
   "metadata": {},
   "outputs": [
    {
     "name": "stdout",
     "output_type": "stream",
     "text": [
      "short\n"
     ]
    }
   ],
   "source": [
    "s = \"Life is too short, You need Python\"\n",
    "print(s[12:17])"
   ]
  },
  {
   "cell_type": "code",
   "execution_count": 22,
   "id": "1c446c4a",
   "metadata": {},
   "outputs": [
    {
     "name": "stdout",
     "output_type": "stream",
     "text": [
      ", You need Python\n",
      "Life is too short\n"
     ]
    }
   ],
   "source": [
    "print(s[17:])\n",
    "print(s[:17])"
   ]
  },
  {
   "cell_type": "code",
   "execution_count": 25,
   "id": "78ad63f8",
   "metadata": {},
   "outputs": [
    {
     "name": "stdout",
     "output_type": "stream",
     "text": [
      "2001\n",
      "0331\n",
      "Rainy\n"
     ]
    }
   ],
   "source": [
    "s = '20010331Rainy'\n",
    "year = s[:4]\n",
    "day = s[4:8]\n",
    "weather = s[8:]\n",
    "print(s[:4])\n",
    "print(s[4:8])\n",
    "print(s[8:])"
   ]
  },
  {
   "cell_type": "code",
   "execution_count": 28,
   "id": "7c2eeb8e",
   "metadata": {},
   "outputs": [
    {
     "name": "stdout",
     "output_type": "stream",
     "text": [
      "현재 온도는 32입니다\n"
     ]
    }
   ],
   "source": [
    "s = \"현재 온도는 %d입니다\"%(32)\n",
    "print(s)"
   ]
  },
  {
   "cell_type": "code",
   "execution_count": 29,
   "id": "93fbca59",
   "metadata": {},
   "outputs": [
    {
     "name": "stdout",
     "output_type": "stream",
     "text": [
      "현재 온도는 34.100000도 입니다.\n"
     ]
    }
   ],
   "source": [
    "temp = 34.1\n",
    "s = \"현재 온도는 %f도 입니다.\" %temp\n",
    "print(s)"
   ]
  },
  {
   "cell_type": "code",
   "execution_count": 30,
   "id": "c3da9776",
   "metadata": {},
   "outputs": [
    {
     "name": "stdout",
     "output_type": "stream",
     "text": [
      "전남대학교 3학년 1학기는 종강입니다.\n"
     ]
    }
   ],
   "source": [
    "s = \"전남대학교 %d학년 %d학기는 종강입니다.\"%(3,1)\n",
    "print(s)"
   ]
  },
  {
   "cell_type": "code",
   "execution_count": 31,
   "id": "e83ca088",
   "metadata": {},
   "outputs": [
    {
     "name": "stdout",
     "output_type": "stream",
     "text": [
      "300\n"
     ]
    }
   ],
   "source": [
    "x, y = 100, 200\n",
    "sum = x + y\n",
    "print(sum)"
   ]
  },
  {
   "cell_type": "code",
   "execution_count": 32,
   "id": "a5ec9f35",
   "metadata": {},
   "outputs": [
    {
     "name": "stdout",
     "output_type": "stream",
     "text": [
      "1.4285714285714286\n",
      "3\n",
      "1\n"
     ]
    }
   ],
   "source": [
    "num1 = 10\n",
    "num2 = 7\n",
    "print(num1 / num2)\n",
    "print(num1 % num2)\n",
    "print(num1 // num2)"
   ]
  },
  {
   "cell_type": "code",
   "execution_count": 33,
   "id": "63af06a7",
   "metadata": {},
   "outputs": [
    {
     "name": "stdout",
     "output_type": "stream",
     "text": [
      "1.4285714285714286\n",
      "3.0\n",
      "1.0\n"
     ]
    }
   ],
   "source": [
    "num1 = 10.0\n",
    "num2 = 7\n",
    "print(num1 / num2)\n",
    "print(num1 % num2)\n",
    "print(num1 // num2)"
   ]
  },
  {
   "cell_type": "code",
   "execution_count": 35,
   "id": "3dc01f0d",
   "metadata": {},
   "outputs": [
    {
     "name": "stdout",
     "output_type": "stream",
     "text": [
      "10\n",
      "4\n",
      "1\n",
      "2.3333333333333335\n"
     ]
    }
   ],
   "source": [
    "num1 = 7\n",
    "num2 = 3\n",
    "print(num1 + num2)\n",
    "print(num1 - num2)\n",
    "print(num1 * num2)\n",
    "print(num1 / num2)\n",
    "print(num1 // num2)\n",
    "print(num1 % num2)"
   ]
  },
  {
   "cell_type": "code",
   "execution_count": 1,
   "id": "b357e216",
   "metadata": {},
   "outputs": [
    {
     "name": "stdout",
     "output_type": "stream",
     "text": [
      "400\n"
     ]
    }
   ],
   "source": [
    "num = 456\n",
    "num = num // 100 * 100\n",
    "print(num)"
   ]
  },
  {
   "cell_type": "code",
   "execution_count": 2,
   "id": "51cb1933",
   "metadata": {},
   "outputs": [
    {
     "name": "stdout",
     "output_type": "stream",
     "text": [
      "1234\n"
     ]
    }
   ],
   "source": [
    "temp = input()"
   ]
  },
  {
   "cell_type": "code",
   "execution_count": 3,
   "id": "1848d3d0",
   "metadata": {},
   "outputs": [
    {
     "name": "stdout",
     "output_type": "stream",
     "text": [
      "1234\n",
      "<class 'str'>\n"
     ]
    }
   ],
   "source": [
    "print(temp);\n",
    "print(type(temp))"
   ]
  },
  {
   "cell_type": "code",
   "execution_count": 8,
   "id": "78e5235e",
   "metadata": {},
   "outputs": [
    {
     "name": "stdout",
     "output_type": "stream",
     "text": [
      "첫번째 정수 입력 : 20\n",
      "두번째 정수 입력 : 40\n",
      "20와 40의 합은 60 입니다.\n"
     ]
    }
   ],
   "source": [
    "x = int(input(\"첫번째 정수 입력 : \"))\n",
    "y = int(input(\"두번째 정수 입력 : \"))\n",
    "temp = x + y\n",
    "print(\"%d와 %d의 합은 %d 입니다.\" %(x, y, temp))"
   ]
  },
  {
   "cell_type": "code",
   "execution_count": 11,
   "id": "1b4cffdd",
   "metadata": {},
   "outputs": [
    {
     "name": "stdout",
     "output_type": "stream",
     "text": [
      "첫번째 정수 입력 : 7\n",
      "두번째 정수 입력 : 3\n",
      "나눗셈 몫 : 2\n",
      "나눗셈 나머지 : 1.000000\n"
     ]
    }
   ],
   "source": [
    "x = int(input(\"첫번째 정수 입력 : \"))\n",
    "y = int(input(\"두번째 정수 입력 : \"))\n",
    "print(\"나눗셈 몫 : %d\" %(x // y))\n",
    "print(\"나눗셈 나머지 : %f\" %(x % y))"
   ]
  },
  {
   "cell_type": "code",
   "execution_count": 13,
   "id": "3dba3450",
   "metadata": {},
   "outputs": [
    {
     "name": "stdout",
     "output_type": "stream",
     "text": [
      "Java 점수 입력 : 80\n",
      "Web 점수 입력 : 80\n",
      "Eng 점수 입력 : 80\n",
      "총합은 240입니다.\n",
      "평균은 80.000000입니다.\n"
     ]
    }
   ],
   "source": [
    "java = int(input(\"Java 점수 입력 : \"))\n",
    "web = int(input(\"Web 점수 입력 : \"))\n",
    "eng = int(input(\"Eng 점수 입력 : \"))\n",
    "sum = java + web + eng\n",
    "avg = sum / 3\n",
    "print(\"총합은 %d입니다.\" %sum)\n",
    "print(\"평균은 %f입니다.\" %avg)"
   ]
  },
  {
   "cell_type": "code",
   "execution_count": 17,
   "id": "428e8948",
   "metadata": {},
   "outputs": [
    {
     "name": "stdout",
     "output_type": "stream",
     "text": [
      "초 입력 : 3723\n",
      "1시 2분 3초\n"
     ]
    }
   ],
   "source": [
    "temp = int(input(\"초 입력 : \" ))\n",
    "second = temp % 60\n",
    "minute = (temp / 60) % 60\n",
    "hour = (temp / 3600) % 60\n",
    "print(\"%d시 %d분 %d초\" %(hour, minute, second))"
   ]
  },
  {
   "cell_type": "code",
   "execution_count": 19,
   "id": "dcf83c00",
   "metadata": {},
   "outputs": [
    {
     "name": "stdout",
     "output_type": "stream",
     "text": [
      "점수 입력 : 80\n",
      "합격\n"
     ]
    }
   ],
   "source": [
    "score = int(input(\"점수 입력 : \"))\n",
    "print(\"합격\" if score >= 80 else \"불합격\")"
   ]
  },
  {
   "cell_type": "code",
   "execution_count": 20,
   "id": "717ceceb",
   "metadata": {},
   "outputs": [
    {
     "name": "stdout",
     "output_type": "stream",
     "text": [
      "정수 입력3\n",
      "홀수\n"
     ]
    }
   ],
   "source": [
    "temp = int(input(\"정수 입력\"))\n",
    "print(\"짝수\" if temp % 2 == 0 else \"홀수\")"
   ]
  },
  {
   "cell_type": "code",
   "execution_count": 22,
   "id": "8408c892",
   "metadata": {},
   "outputs": [
    {
     "name": "stdout",
     "output_type": "stream",
     "text": [
      "첫번째 정수 입력 : 87\n",
      "두번째 정수 입력 : 23\n",
      "두 수의 차 : 64\n"
     ]
    }
   ],
   "source": [
    "num1 = int(input(\"첫번째 정수 입력 : \"))\n",
    "num2 = int(input(\"두번째 정수 입력 : \"))\n",
    "\n",
    "temp = num1 - num2 if num1 >= num2 else num2 - num1\n",
    "print(\"두 수의 차 : %d\" %temp)"
   ]
  },
  {
   "cell_type": "code",
   "execution_count": 24,
   "id": "9b9b6c2f",
   "metadata": {},
   "outputs": [
    {
     "name": "stdout",
     "output_type": "stream",
     "text": [
      "일한 시간 : 11\n",
      "62500.0\n"
     ]
    }
   ],
   "source": [
    "time = int(input(\"일한 시간 : \"))\n",
    "overtime = time - 8\n",
    "overwork = overtime * 5000 * 1.5\n",
    "work = 8 * 5000\n",
    "\n",
    "print(work + overwork if time > 8 else time * 5000)"
   ]
  },
  {
   "cell_type": "code",
   "execution_count": 1,
   "id": "eb286125",
   "metadata": {},
   "outputs": [
    {
     "name": "stdout",
     "output_type": "stream",
     "text": [
      "나이 : 20\n",
      "성인입니다.\n"
     ]
    }
   ],
   "source": [
    "age = int(input(\"나이 : \"))\n",
    "if age >= 20:\n",
    "    print(\"성인입니다.\")"
   ]
  },
  {
   "cell_type": "markdown",
   "id": "0b6a62fb",
   "metadata": {},
   "source": []
  },
  {
   "cell_type": "code",
   "execution_count": 3,
   "id": "25ad4ef0",
   "metadata": {},
   "outputs": [
    {
     "name": "stdout",
     "output_type": "stream",
     "text": [
      "15\n",
      "3과 5의 배수입니다.\n"
     ]
    }
   ],
   "source": [
    "num = int(input())\n",
    "if num % 3 == 0 and num % 5 == 0:\n",
    "    print(\"3과 5의 배수입니다.\")"
   ]
  },
  {
   "cell_type": "code",
   "execution_count": 5,
   "id": "e3556e52",
   "metadata": {},
   "outputs": [
    {
     "name": "stdout",
     "output_type": "stream",
     "text": [
      "40\n",
      "불합격입니다.\n"
     ]
    }
   ],
   "source": [
    "grade = int(input())\n",
    "if grade >= 60:\n",
    "    print(\"합격입니다.\")\n",
    "else:\n",
    "    print(\"불합격입니다.\")"
   ]
  },
  {
   "cell_type": "code",
   "execution_count": 7,
   "id": "fa2cf971",
   "metadata": {},
   "outputs": [
    {
     "name": "stdout",
     "output_type": "stream",
     "text": [
      "정수 입력 : 3\n",
      "3는 홀수입니다.\n"
     ]
    }
   ],
   "source": [
    "num1 = int(input(\"정수 입력 : \"))\n",
    "if num1 % 2 == 0:\n",
    "    print(\"%d는 짝수입니다.\" %num1)\n",
    "else:\n",
    "    print(\"%d는 홀수입니다.\" %num1)"
   ]
  },
  {
   "cell_type": "code",
   "execution_count": 9,
   "id": "edd06bb3",
   "metadata": {},
   "outputs": [
    {
     "name": "stdout",
     "output_type": "stream",
     "text": [
      "상품 개수 : 12\n",
      "가격은 108000원 입니다.\n"
     ]
    }
   ],
   "source": [
    "gift = int(input(\"상품 개수 : \"))\n",
    "prize = gift * 10000\n",
    "if gift >= 11:\n",
    "    print(\"가격은 %d원 입니다.\" %(prize * 0.9))\n",
    "else:\n",
    "    print(\"가격은 %d원 입니다.\" %prize)"
   ]
  },
  {
   "cell_type": "code",
   "execution_count": 12,
   "id": "f0619754",
   "metadata": {},
   "outputs": [
    {
     "name": "stdout",
     "output_type": "stream",
     "text": [
      "8\n",
      "8\n",
      "8\n",
      "8\n",
      "8\n",
      "불합격입니다.\n"
     ]
    }
   ],
   "source": [
    "num1 = int(input())\n",
    "num2 = int(input())\n",
    "num3 = int(input())\n",
    "num4 = int(input())\n",
    "num5 = int(input())\n",
    "sum_num = num1 + num2 + num3 + num4 + num5\n",
    "\n",
    "if num1 >= 8 and num2 >= 8 and num3 >= 8 and num4 >= 8 and num5 >= 8 and sum_num >= 60:\n",
    "    print(\"합격입니다.\")\n",
    "else :\n",
    "    print(\"불합격입니다.\")"
   ]
  },
  {
   "cell_type": "code",
   "execution_count": 13,
   "id": "0844ca03",
   "metadata": {},
   "outputs": [
    {
     "name": "stdout",
     "output_type": "stream",
     "text": [
      "1\n",
      "2\n",
      "작다\n"
     ]
    }
   ],
   "source": [
    "num1 = int(input())\n",
    "num2 = int(input())\n",
    "\n",
    "if num1 > num2:\n",
    "    print(\"크다\")\n",
    "elif num1 == num2:\n",
    "    print(\"같다\")\n",
    "else :\n",
    "    print(\"작다\")"
   ]
  },
  {
   "cell_type": "code",
   "execution_count": 16,
   "id": "b17ebe02",
   "metadata": {},
   "outputs": [
    {
     "name": "stdout",
     "output_type": "stream",
     "text": [
      "시험점수 입력 : 80\n",
      "80점 B입니다.\n"
     ]
    }
   ],
   "source": [
    "score = int(input(\"시험점수 입력 : \"))\n",
    "\n",
    "if score >= 100 and score < 90:\n",
    "    print(\"%d점 A입니다.\" %score)\n",
    "elif score >= 80:\n",
    "    print(\"%d점 B입니다.\" %score)\n",
    "elif score >= 70:\n",
    "    print(\"%d점 C입니다.\" %score)\n",
    "elif score >= 60:\n",
    "    print(\"%d점 D입니다.\" %score)\n",
    "else :\n",
    "    print(\"%d점 E입니다.\" %score)"
   ]
  },
  {
   "cell_type": "code",
   "execution_count": 17,
   "id": "25930936",
   "metadata": {},
   "outputs": [
    {
     "name": "stdout",
     "output_type": "stream",
     "text": [
      "1\n",
      "양수입니다.\n"
     ]
    }
   ],
   "source": [
    "num1 = int(input())\n",
    "\n",
    "if num1 > 0:\n",
    "    print(\"양수입니다.\")\n",
    "elif num1 == 0:\n",
    "    print(\"0입니다.\")\n",
    "else :\n",
    "    print(\"음수입니다.\")"
   ]
  },
  {
   "cell_type": "code",
   "execution_count": 18,
   "id": "77c0217f",
   "metadata": {},
   "outputs": [
    {
     "ename": "SyntaxError",
     "evalue": "unexpected EOF while parsing (<ipython-input-18-1d2c0b92a317>, line 10)",
     "output_type": "error",
     "traceback": [
      "\u001b[1;36m  File \u001b[1;32m\"<ipython-input-18-1d2c0b92a317>\"\u001b[1;36m, line \u001b[1;32m10\u001b[0m\n\u001b[1;33m    else:\u001b[0m\n\u001b[1;37m         ^\u001b[0m\n\u001b[1;31mSyntaxError\u001b[0m\u001b[1;31m:\u001b[0m unexpected EOF while parsing\n"
     ]
    }
   ],
   "source": [
    "money = int(input(\"금액을 입력하세요.\"))\n",
    "menu = int(input(\" 메뉴를 고르세요. [1]콜라(800원) [2]생수(500원) [3]비타민워터(1500원)\"))\n",
    "\n",
    "if menu == 1 :\n",
    "    if money >= 800:\n",
    "        print(\"잔돈 : %d\" %(money - 800))\n",
    "        print(\"천원 : %d개\" %((money - 800) // 1000))\n",
    "    else :\n",
    "        print(\"돈이 부족합니다.\")\n",
    "elif menu == 2 :\n",
    "    if money >= 500 :\n",
    "        print(\"잔돈 : %d\" %(money - 500))\n",
    "        print(\"천원 : %d개\" %((money - 500) // 1000))\n",
    "    else:\n",
    "        print(\"돈이 부족합니다.\")\n",
    "elif menu == 3 :\n",
    "    if money >= 1500 :\n",
    "        print(\"잔돈 : %d\" %(money - 1500))\n",
    "        print(\"천원 : %d개\" %((money - 1500) // 1000))\n",
    "    else :\n",
    "        print(\"돈이 부족합니다.\")\n",
    "else:\n",
    "    print(\"입력이 잘못되었습니다.\")"
   ]
  },
  {
   "cell_type": "code",
   "execution_count": 2,
   "id": "6732536c",
   "metadata": {},
   "outputs": [],
   "source": [
    "a = [1, 2, 3,[ 'a', 'b', 'c']]"
   ]
  },
  {
   "cell_type": "code",
   "execution_count": 3,
   "id": "d663cab9",
   "metadata": {},
   "outputs": [
    {
     "name": "stdout",
     "output_type": "stream",
     "text": [
      "b\n"
     ]
    }
   ],
   "source": [
    "arrayTemp = a[3]\n",
    "print(arrayTemp[1])"
   ]
  },
  {
   "cell_type": "code",
   "execution_count": 9,
   "id": "5b11bae1",
   "metadata": {},
   "outputs": [
    {
     "name": "stdout",
     "output_type": "stream",
     "text": [
      "[3, ['a', 'b', 'c'], 4]\n",
      "['a', 'b']\n"
     ]
    }
   ],
   "source": [
    "array = [1, 2, 3, ['a', 'b', 'c'], 4, 5]\n",
    "arrayTemp = array[2:5]\n",
    "print(arrayTemp)\n",
    "print(arrayTemp[1][0:2])"
   ]
  },
  {
   "cell_type": "code",
   "execution_count": 13,
   "id": "24c84c9d",
   "metadata": {},
   "outputs": [
    {
     "name": "stdout",
     "output_type": "stream",
     "text": [
      "[1, 2, 3, 4, 7]\n",
      "[1, ['a', 'b', 'c'], 3, 4, 7]\n",
      "[1, ['a', 'b', 'c'], 3, 'd', 'e', 'f', 'g']\n"
     ]
    }
   ],
   "source": [
    "array = [1,2,3,4,5]\n",
    "array[4] = 7\n",
    "print(array)\n",
    "array[1] = ['a', 'b', 'c']\n",
    "print(array)\n",
    "array[3:5] = 'd', 'e', 'f', 'g'\n",
    "print(array)"
   ]
  },
  {
   "cell_type": "code",
   "execution_count": 16,
   "id": "d6ed9821",
   "metadata": {},
   "outputs": [
    {
     "name": "stdout",
     "output_type": "stream",
     "text": [
      "[1, 2, 3, 4, 5, 'd']\n",
      "[1, 2, 'taeju', 3, 4, 5, 'd']\n",
      "[2, 'taeju', 3, 4, 5, 'd']\n"
     ]
    }
   ],
   "source": [
    "array = [1,2,3,4,5]\n",
    "array.append('d')\n",
    "print(array)\n",
    "array.insert(2,'taeju')\n",
    "print(array)\n",
    "array.remove(1)\n",
    "print(array)"
   ]
  },
  {
   "cell_type": "code",
   "execution_count": 17,
   "id": "0c97f99c",
   "metadata": {},
   "outputs": [
    {
     "name": "stdout",
     "output_type": "stream",
     "text": [
      "1\n",
      "2\n",
      "3\n",
      "4\n",
      "5\n",
      "6\n",
      "7\n",
      "8\n",
      "9\n",
      "10\n"
     ]
    }
   ],
   "source": [
    "list1 = [1,2,3,4,5,6,7,8,9,10]\n",
    "for i in list1:\n",
    "    print(i)"
   ]
  },
  {
   "cell_type": "code",
   "execution_count": 20,
   "id": "c6ef665c",
   "metadata": {},
   "outputs": [
    {
     "name": "stdout",
     "output_type": "stream",
     "text": [
      "정수 입력2\n",
      "2\n",
      "4\n",
      "6\n",
      "8\n",
      "10\n"
     ]
    }
   ],
   "source": [
    "array = [1,2,3,4,5,6,7,8,9,10]\n",
    "num1 = int(input(\"정수 입력\"))\n",
    "for i in array:\n",
    "    if i % num1 == 0:\n",
    "        print(i)"
   ]
  },
  {
   "cell_type": "code",
   "execution_count": 25,
   "id": "15622d1b",
   "metadata": {},
   "outputs": [
    {
     "name": "stdout",
     "output_type": "stream",
     "text": [
      "불합격입니다.\n",
      "합격입니다.\n",
      "합격입니다.\n",
      "합격입니다.\n",
      "불합격입니다.\n"
     ]
    }
   ],
   "source": [
    "score = [50, 60, 70, 80, 30]\n",
    "for i in score:\n",
    "    if i >= 60:\n",
    "        print(\"합격입니다.\")\n",
    "    else :\n",
    "        print(\"불합격입니다.\")"
   ]
  },
  {
   "cell_type": "code",
   "execution_count": 35,
   "id": "8eb6c74b",
   "metadata": {},
   "outputs": [
    {
     "name": "stdout",
     "output_type": "stream",
     "text": [
      "79.0\n"
     ]
    }
   ],
   "source": [
    "score = [70, 60, 55, 75, 95, 90, 80, 80, 85, 100]\n",
    "temp = 0\n",
    "count = 0\n",
    "for i in score:\n",
    "    temp += i\n",
    "    count += 1\n",
    "print(temp / count)"
   ]
  },
  {
   "cell_type": "code",
   "execution_count": 45,
   "id": "a7635b7c",
   "metadata": {},
   "outputs": [
    {
     "name": "stdout",
     "output_type": "stream",
     "text": [
      "2\n",
      "2 x 1 = 2\n",
      "2 x 2 = 4\n",
      "2 x 3 = 6\n",
      "2 x 4 = 8\n",
      "2 x 5 = 10\n",
      "2 x 6 = 12\n",
      "2 x 7 = 14\n",
      "2 x 8 = 16\n",
      "2 x 9 = 18\n"
     ]
    }
   ],
   "source": [
    "num = int(input())\n",
    "for i in range(1,10):\n",
    "    print(\"%d x %d = %d\" %(num, i, i * num))"
   ]
  },
  {
   "cell_type": "code",
   "execution_count": 46,
   "id": "00579bcd",
   "metadata": {},
   "outputs": [
    {
     "name": "stdout",
     "output_type": "stream",
     "text": [
      "3\n",
      "3 x 1 = 3\n",
      "3 x 2 = 6\n",
      "3 x 3 = 9\n"
     ]
    }
   ],
   "source": [
    "num = int(input())\n",
    "for i in range(1,num + 1):\n",
    "    print(\"%d x %d = %d\" %(num, i, i * num))"
   ]
  },
  {
   "cell_type": "code",
   "execution_count": 48,
   "id": "7e2157ea",
   "metadata": {},
   "outputs": [
    {
     "name": "stdout",
     "output_type": "stream",
     "text": [
      "3\n",
      "2 x 1 = 2\n",
      "2 x 2 = 4\n",
      "2 x 3 = 6\n",
      "2 x 4 = 8\n",
      "2 x 5 = 10\n",
      "2 x 6 = 12\n",
      "2 x 7 = 14\n",
      "2 x 8 = 16\n",
      "2 x 9 = 18\n",
      "===============\n",
      "3 x 1 = 3\n",
      "3 x 2 = 6\n",
      "3 x 3 = 9\n",
      "3 x 4 = 12\n",
      "3 x 5 = 15\n",
      "3 x 6 = 18\n",
      "3 x 7 = 21\n",
      "3 x 8 = 24\n",
      "3 x 9 = 27\n",
      "===============\n"
     ]
    }
   ],
   "source": [
    "num = int(input())\n",
    "for i in range(2, num + 1):\n",
    "    for k in range(1, 10):\n",
    "        print(\"%d x %d = %d\" %(i, k, i * k))\n",
    "    print(\"===============\")"
   ]
  },
  {
   "cell_type": "code",
   "execution_count": 1,
   "id": "02e3c21d",
   "metadata": {},
   "outputs": [
    {
     "name": "stdout",
     "output_type": "stream",
     "text": [
      "0 1\n",
      "1 2\n",
      "2 3\n",
      "3 4\n",
      "4 5\n",
      "5 6\n",
      "6 7\n",
      "7 8\n",
      "8 9\n"
     ]
    }
   ],
   "source": [
    "for i, j in enumerate(range(1, 10)):\n",
    "    print(i, j)"
   ]
  },
  {
   "cell_type": "code",
   "execution_count": 2,
   "id": "b8937e20",
   "metadata": {},
   "outputs": [
    {
     "name": "stdout",
     "output_type": "stream",
     "text": [
      "100\n"
     ]
    }
   ],
   "source": [
    "count = 0\n",
    "while count < 100:\n",
    "    count += 1\n",
    "print(count)"
   ]
  },
  {
   "cell_type": "code",
   "execution_count": 6,
   "id": "bf1bfe34",
   "metadata": {},
   "outputs": [
    {
     "name": "stdout",
     "output_type": "stream",
     "text": [
      "1\n",
      "3\n",
      "3\n",
      "1\n",
      "2\n"
     ]
    }
   ],
   "source": [
    "while True:\n",
    "    count = int(input())\n",
    "    if(count % 2 == 0):\n",
    "        break"
   ]
  },
  {
   "cell_type": "code",
   "execution_count": null,
   "id": "fcfcff28",
   "metadata": {},
   "outputs": [],
   "source": []
  }
 ],
 "metadata": {
  "kernelspec": {
   "display_name": "Python 3",
   "language": "python",
   "name": "python3"
  },
  "language_info": {
   "codemirror_mode": {
    "name": "ipython",
    "version": 3
   },
   "file_extension": ".py",
   "mimetype": "text/x-python",
   "name": "python",
   "nbconvert_exporter": "python",
   "pygments_lexer": "ipython3",
   "version": "3.8.8"
  }
 },
 "nbformat": 4,
 "nbformat_minor": 5
}
