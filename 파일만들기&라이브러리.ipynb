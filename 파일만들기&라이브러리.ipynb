{
 "cells": [
  {
   "cell_type": "code",
   "execution_count": 7,
   "id": "c7495700",
   "metadata": {},
   "outputs": [
    {
     "name": "stdout",
     "output_type": "stream",
     "text": [
      "Requirement already satisfied: pyinstaller in c:\\users\\dell\\anaconda3\\lib\\site-packages (4.5.1)\n",
      "Requirement already satisfied: pywin32-ctypes>=0.2.0 in c:\\users\\dell\\anaconda3\\lib\\site-packages (from pyinstaller) (0.2.0)\n",
      "Requirement already satisfied: setuptools in c:\\users\\dell\\anaconda3\\lib\\site-packages (from pyinstaller) (52.0.0.post20210125)\n",
      "Requirement already satisfied: altgraph in c:\\users\\dell\\anaconda3\\lib\\site-packages (from pyinstaller) (0.17)\n",
      "Requirement already satisfied: pefile>=2017.8.1 in c:\\users\\dell\\anaconda3\\lib\\site-packages (from pyinstaller) (2021.5.24)\n",
      "Requirement already satisfied: pyinstaller-hooks-contrib>=2020.6 in c:\\users\\dell\\anaconda3\\lib\\site-packages (from pyinstaller) (2021.2)\n",
      "Requirement already satisfied: future in c:\\users\\dell\\anaconda3\\lib\\site-packages (from pefile>=2017.8.1->pyinstaller) (0.18.2)\n"
     ]
    }
   ],
   "source": [
    "!pip install pyinstaller"
   ]
  },
  {
   "cell_type": "code",
   "execution_count": 10,
   "id": "378590d8",
   "metadata": {},
   "outputs": [
    {
     "name": "stdout",
     "output_type": "stream",
     "text": [
      "첫번째 숫자를 입력해주세요 : 5\n",
      "두번째 숫자를 입력해주세요 : 5\n",
      "연산기호를 입력해주세요.+\n",
      "계산 결과는 : 10\n"
     ]
    }
   ],
   "source": [
    "a = int(input(\"첫번째 숫자를 입력해주세요 : \"))\n",
    "b = int(input(\"두번째 숫자를 입력해주세요 : \"))\n",
    "c = input(\"연산기호를 입력해주세요.\")\n",
    "\n",
    "if c == '+':\n",
    "    print(\"계산 결과는 :\", a + b)"
   ]
  },
  {
   "cell_type": "code",
   "execution_count": 11,
   "id": "c856f291",
   "metadata": {},
   "outputs": [],
   "source": [
    "import random as rd"
   ]
  },
  {
   "cell_type": "code",
   "execution_count": 12,
   "id": "be4c066e",
   "metadata": {},
   "outputs": [
    {
     "data": {
      "text/plain": [
       "0.27796804829049615"
      ]
     },
     "execution_count": 12,
     "metadata": {},
     "output_type": "execute_result"
    }
   ],
   "source": [
    "rd.random()"
   ]
  },
  {
   "cell_type": "code",
   "execution_count": 13,
   "id": "5f5c59f7",
   "metadata": {},
   "outputs": [
    {
     "data": {
      "text/plain": [
       "10"
      ]
     },
     "execution_count": 13,
     "metadata": {},
     "output_type": "execute_result"
    }
   ],
   "source": [
    "rd.randint(1,20)"
   ]
  },
  {
   "cell_type": "code",
   "execution_count": 14,
   "id": "3eed3a4d",
   "metadata": {},
   "outputs": [],
   "source": [
    "#sys\n",
    "#파이썬 인터프리터를 제어할 수 있는 라이브러리\n",
    "import sys"
   ]
  },
  {
   "cell_type": "code",
   "execution_count": 16,
   "id": "b03b7de8",
   "metadata": {},
   "outputs": [
    {
     "data": {
      "text/plain": [
       "['C:\\\\Users\\\\DELL',\n",
       " 'C:\\\\Users\\\\DELL\\\\anaconda3\\\\python38.zip',\n",
       " 'C:\\\\Users\\\\DELL\\\\anaconda3\\\\DLLs',\n",
       " 'C:\\\\Users\\\\DELL\\\\anaconda3\\\\lib',\n",
       " 'C:\\\\Users\\\\DELL\\\\anaconda3',\n",
       " '',\n",
       " 'C:\\\\Users\\\\DELL\\\\anaconda3\\\\lib\\\\site-packages',\n",
       " 'C:\\\\Users\\\\DELL\\\\anaconda3\\\\lib\\\\site-packages\\\\locket-0.2.1-py3.8.egg',\n",
       " 'C:\\\\Users\\\\DELL\\\\anaconda3\\\\lib\\\\site-packages\\\\win32',\n",
       " 'C:\\\\Users\\\\DELL\\\\anaconda3\\\\lib\\\\site-packages\\\\win32\\\\lib',\n",
       " 'C:\\\\Users\\\\DELL\\\\anaconda3\\\\lib\\\\site-packages\\\\Pythonwin',\n",
       " 'C:\\\\Users\\\\DELL\\\\anaconda3\\\\lib\\\\site-packages\\\\IPython\\\\extensions',\n",
       " 'C:\\\\Users\\\\DELL\\\\.ipython']"
      ]
     },
     "execution_count": 16,
     "metadata": {},
     "output_type": "execute_result"
    }
   ],
   "source": [
    "sys.path"
   ]
  },
  {
   "cell_type": "code",
   "execution_count": 17,
   "id": "e8f01a75",
   "metadata": {},
   "outputs": [],
   "source": [
    "#시간과 관련된 라이브러리\n",
    "import time"
   ]
  },
  {
   "cell_type": "code",
   "execution_count": 18,
   "id": "14a4916f",
   "metadata": {},
   "outputs": [
    {
     "data": {
      "text/plain": [
       "1629178434.9381614"
      ]
     },
     "execution_count": 18,
     "metadata": {},
     "output_type": "execute_result"
    }
   ],
   "source": [
    "a = time.time() #1970년 1월 1일을 기준으로 지난 시간을 돌려줍니다."
   ]
  },
  {
   "cell_type": "code",
   "execution_count": 20,
   "id": "56d3e790",
   "metadata": {},
   "outputs": [
    {
     "data": {
      "text/plain": [
       "(2021, 8, 17, 14, 36)"
      ]
     },
     "execution_count": 20,
     "metadata": {},
     "output_type": "execute_result"
    }
   ],
   "source": [
    "time.localtime(time.time())[0:5]"
   ]
  },
  {
   "cell_type": "code",
   "execution_count": 21,
   "id": "44178d51",
   "metadata": {},
   "outputs": [
    {
     "data": {
      "text/plain": [
       "'Tue Aug 17 14:36:38 2021'"
      ]
     },
     "execution_count": 21,
     "metadata": {},
     "output_type": "execute_result"
    }
   ],
   "source": [
    "time.ctime()"
   ]
  },
  {
   "cell_type": "code",
   "execution_count": 23,
   "id": "93733b9c",
   "metadata": {},
   "outputs": [
    {
     "data": {
      "text/plain": [
       "'Thu Jan  1 09:00:05 1970'"
      ]
     },
     "execution_count": 23,
     "metadata": {},
     "output_type": "execute_result"
    }
   ],
   "source": [
    "time.asctime(time.localtime(a))"
   ]
  },
  {
   "cell_type": "code",
   "execution_count": 24,
   "id": "545ac61e",
   "metadata": {},
   "outputs": [],
   "source": [
    "#환경변수, 디렉토리, 파일 등의 자원을 제어할 수 있게 하는 모듈\n",
    "import os"
   ]
  },
  {
   "cell_type": "code",
   "execution_count": 25,
   "id": "4318225f",
   "metadata": {},
   "outputs": [],
   "source": [
    "#현재 시스템의 환경변수 값을 보여주는 함수\n",
    "# os.environ"
   ]
  },
  {
   "cell_type": "code",
   "execution_count": 26,
   "id": "275d705c",
   "metadata": {},
   "outputs": [],
   "source": [
    "os.mkdir('parktaeju')#폴더 생성"
   ]
  },
  {
   "cell_type": "code",
   "execution_count": 27,
   "id": "e37d8f55",
   "metadata": {},
   "outputs": [],
   "source": [
    "os.rmdir('parktaeju')#폴더 삭제"
   ]
  },
  {
   "cell_type": "code",
   "execution_count": 29,
   "id": "6083f0b5",
   "metadata": {},
   "outputs": [
    {
     "data": {
      "text/plain": [
       "'C:\\\\Users\\\\DELL'"
      ]
     },
     "execution_count": 29,
     "metadata": {},
     "output_type": "execute_result"
    }
   ],
   "source": [
    "os.getcwd() #현재 위치 반환"
   ]
  },
  {
   "cell_type": "code",
   "execution_count": 30,
   "id": "8da174b5",
   "metadata": {},
   "outputs": [
    {
     "data": {
      "text/plain": [
       "0"
      ]
     },
     "execution_count": 30,
     "metadata": {},
     "output_type": "execute_result"
    }
   ],
   "source": [
    "os.system('mkdir parktaeju') #파이썬에서 시스템 프로그램 명령어 호출"
   ]
  },
  {
   "cell_type": "code",
   "execution_count": 31,
   "id": "356f4d2d",
   "metadata": {},
   "outputs": [
    {
     "data": {
      "text/plain": [
       "0"
      ]
     },
     "execution_count": 31,
     "metadata": {},
     "output_type": "execute_result"
    }
   ],
   "source": [
    "os.system('rmdir parktaeju')"
   ]
  },
  {
   "cell_type": "code",
   "execution_count": 33,
   "id": "cd4a2a9a",
   "metadata": {},
   "outputs": [
    {
     "data": {
      "text/plain": [
       "0"
      ]
     },
     "execution_count": 33,
     "metadata": {},
     "output_type": "execute_result"
    }
   ],
   "source": [
    "os.system('winver')"
   ]
  },
  {
   "cell_type": "code",
   "execution_count": null,
   "id": "2d07d426",
   "metadata": {},
   "outputs": [],
   "source": []
  }
 ],
 "metadata": {
  "kernelspec": {
   "display_name": "Python 3",
   "language": "python",
   "name": "python3"
  },
  "language_info": {
   "codemirror_mode": {
    "name": "ipython",
    "version": 3
   },
   "file_extension": ".py",
   "mimetype": "text/x-python",
   "name": "python",
   "nbconvert_exporter": "python",
   "pygments_lexer": "ipython3",
   "version": "3.8.8"
  }
 },
 "nbformat": 4,
 "nbformat_minor": 5
}
