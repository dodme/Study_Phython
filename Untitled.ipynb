{
 "cells": [
  {
   "cell_type": "code",
   "execution_count": 2,
   "id": "ae04d2cc",
   "metadata": {},
   "outputs": [
    {
     "name": "stdout",
     "output_type": "stream",
     "text": [
      "1\n",
      "3\n",
      "3\n"
     ]
    }
   ],
   "source": [
    "def LargeNumber(num1 = 0, num2 = 0):\n",
    "    if num1 > num2 :\n",
    "        return num1\n",
    "    else :\n",
    "        return num2\n",
    "print(LargeNumber())"
   ]
  },
  {
   "cell_type": "code",
   "execution_count": 11,
   "id": "165cc193",
   "metadata": {},
   "outputs": [],
   "source": [
    "def Close10(num1 = 9, num2 = 8):\n",
    "    temp1 = num1 - 10\n",
    "    temp2 = num2 - 10\n",
    "    if temp1 < 0:\n",
    "        temp1 = -1 * temp1\n",
    "    if temp2 < 0:\n",
    "        temp2 = -1 * temp2\n",
    "    if temp1 > temp2:\n",
    "        return num1\n",
    "    else:\n",
    "        return num2"
   ]
  },
  {
   "cell_type": "code",
   "execution_count": 12,
   "id": "4d4b2245",
   "metadata": {},
   "outputs": [
    {
     "name": "stdout",
     "output_type": "stream",
     "text": [
      "첫번째 정수 입력 : 3\n",
      "두번째 정수 입력 : 7\n",
      "10과 가까운 수 확인 : 3\n"
     ]
    }
   ],
   "source": [
    "num1 = int(input(\"첫번째 정수 입력 : \"))\n",
    "num2 = int(input(\"두번째 정수 입력 : \"))\n",
    "result = Close10(num1, num2)\n",
    "print(\"10과 가까운 수 확인 : %d\" %result)"
   ]
  },
  {
   "cell_type": "code",
   "execution_count": null,
   "id": "cc6de028",
   "metadata": {},
   "outputs": [],
   "source": []
  },
  {
   "cell_type": "code",
   "execution_count": null,
   "id": "52fb9f2a",
   "metadata": {},
   "outputs": [],
   "source": [
    "def sum_many(*num):\n",
    "    temp = 0\n",
    "    for i in [*num]:\n",
    "        temp += i\n",
    "    return temp\n",
    "result = sum_many(1,2,3,4,5)\n",
    "print(result)"
   ]
  },
  {
   "cell_type": "code",
   "execution_count": 33,
   "id": "d7be1a1d",
   "metadata": {},
   "outputs": [],
   "source": [
    "def isDivisor(num1, num2):\n",
    "    if (num1 % num2) == 0:\n",
    "        return True\n",
    "    else :\n",
    "        return False"
   ]
  },
  {
   "cell_type": "code",
   "execution_count": 35,
   "id": "eb2e528b",
   "metadata": {},
   "outputs": [
    {
     "name": "stdout",
     "output_type": "stream",
     "text": [
      "첫 번째 정수 입력 : 3\n",
      "두 번째 정수 입력 : 7\n",
      "False\n"
     ]
    }
   ],
   "source": [
    "num1 = int(input(\"첫 번째 정수 입력 : \"))\n",
    "num2 = int(input(\"두 번째 정수 입력 : \"))\n",
    "divisor = isDivisor(num1, num2)\n",
    "print(divisor)"
   ]
  },
  {
   "cell_type": "code",
   "execution_count": null,
   "id": "a5210763",
   "metadata": {},
   "outputs": [],
   "source": [
    "def getDivisor(num):\n",
    "    "
   ]
  },
  {
   "cell_type": "code",
   "execution_count": 38,
   "id": "3df264c1",
   "metadata": {},
   "outputs": [],
   "source": [
    "def getDivisors(start, end):\n",
    "    for i in range(start, end + 1):\n",
    "        temp = getDivisor(i)\n",
    "        print(\"{}의 함수 : {}\".format(i,temp))"
   ]
  },
  {
   "cell_type": "code",
   "execution_count": 39,
   "id": "6298098f",
   "metadata": {},
   "outputs": [
    {
     "ename": "TypeError",
     "evalue": "isDivisor() missing 1 required positional argument: 'num2'",
     "output_type": "error",
     "traceback": [
      "\u001b[1;31m---------------------------------------------------------------------------\u001b[0m",
      "\u001b[1;31mTypeError\u001b[0m                                 Traceback (most recent call last)",
      "\u001b[1;32m<ipython-input-39-9bf7945e4eb4>\u001b[0m in \u001b[0;36m<module>\u001b[1;34m\u001b[0m\n\u001b[0;32m      1\u001b[0m \u001b[0mstart\u001b[0m \u001b[1;33m=\u001b[0m \u001b[1;36m10\u001b[0m\u001b[1;33m\u001b[0m\u001b[1;33m\u001b[0m\u001b[0m\n\u001b[0;32m      2\u001b[0m \u001b[0mend\u001b[0m \u001b[1;33m=\u001b[0m \u001b[1;36m36\u001b[0m\u001b[1;33m\u001b[0m\u001b[1;33m\u001b[0m\u001b[0m\n\u001b[1;32m----> 3\u001b[1;33m \u001b[0mgetDivisors\u001b[0m\u001b[1;33m(\u001b[0m\u001b[0mstart\u001b[0m\u001b[1;33m,\u001b[0m\u001b[0mend\u001b[0m\u001b[1;33m)\u001b[0m\u001b[1;33m\u001b[0m\u001b[1;33m\u001b[0m\u001b[0m\n\u001b[0m",
      "\u001b[1;32m<ipython-input-38-f6c3b1b8d095>\u001b[0m in \u001b[0;36mgetDivisors\u001b[1;34m(start, end)\u001b[0m\n\u001b[0;32m      1\u001b[0m \u001b[1;32mdef\u001b[0m \u001b[0mgetDivisors\u001b[0m\u001b[1;33m(\u001b[0m\u001b[0mstart\u001b[0m\u001b[1;33m,\u001b[0m \u001b[0mend\u001b[0m\u001b[1;33m)\u001b[0m\u001b[1;33m:\u001b[0m\u001b[1;33m\u001b[0m\u001b[1;33m\u001b[0m\u001b[0m\n\u001b[0;32m      2\u001b[0m     \u001b[1;32mfor\u001b[0m \u001b[0mi\u001b[0m \u001b[1;32min\u001b[0m \u001b[0mrange\u001b[0m\u001b[1;33m(\u001b[0m\u001b[0mstart\u001b[0m\u001b[1;33m,\u001b[0m \u001b[0mend\u001b[0m \u001b[1;33m+\u001b[0m \u001b[1;36m1\u001b[0m\u001b[1;33m)\u001b[0m\u001b[1;33m:\u001b[0m\u001b[1;33m\u001b[0m\u001b[1;33m\u001b[0m\u001b[0m\n\u001b[1;32m----> 3\u001b[1;33m         \u001b[0mtemp\u001b[0m \u001b[1;33m=\u001b[0m \u001b[0misDivisor\u001b[0m\u001b[1;33m(\u001b[0m\u001b[0mi\u001b[0m\u001b[1;33m)\u001b[0m\u001b[1;33m\u001b[0m\u001b[1;33m\u001b[0m\u001b[0m\n\u001b[0m\u001b[0;32m      4\u001b[0m         \u001b[0mprint\u001b[0m\u001b[1;33m(\u001b[0m\u001b[1;34m\"{}의 함수 : {}\"\u001b[0m\u001b[1;33m.\u001b[0m\u001b[0mformat\u001b[0m\u001b[1;33m(\u001b[0m\u001b[0mi\u001b[0m\u001b[1;33m,\u001b[0m\u001b[0mtemp\u001b[0m\u001b[1;33m)\u001b[0m\u001b[1;33m)\u001b[0m\u001b[1;33m\u001b[0m\u001b[1;33m\u001b[0m\u001b[0m\n",
      "\u001b[1;31mTypeError\u001b[0m: isDivisor() missing 1 required positional argument: 'num2'"
     ]
    }
   ],
   "source": [
    "start = 10\n",
    "end = 36\n",
    "getDivisors(start,end)"
   ]
  },
  {
   "cell_type": "code",
   "execution_count": null,
   "id": "83c2f319",
   "metadata": {},
   "outputs": [],
   "source": []
  }
 ],
 "metadata": {
  "kernelspec": {
   "display_name": "Python 3",
   "language": "python",
   "name": "python3"
  },
  "language_info": {
   "codemirror_mode": {
    "name": "ipython",
    "version": 3
   },
   "file_extension": ".py",
   "mimetype": "text/x-python",
   "name": "python",
   "nbconvert_exporter": "python",
   "pygments_lexer": "ipython3",
   "version": "3.8.8"
  }
 },
 "nbformat": 4,
 "nbformat_minor": 5
}
